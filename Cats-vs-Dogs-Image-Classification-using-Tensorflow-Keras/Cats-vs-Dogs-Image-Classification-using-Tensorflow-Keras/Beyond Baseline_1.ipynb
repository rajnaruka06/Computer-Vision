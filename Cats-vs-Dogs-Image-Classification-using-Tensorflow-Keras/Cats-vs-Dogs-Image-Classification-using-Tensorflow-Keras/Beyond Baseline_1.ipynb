{
 "cells": [
  {
   "cell_type": "markdown",
   "metadata": {},
   "source": [
    "#### Training on rgb image insted of training on grayscale image."
   ]
  },
  {
   "cell_type": "code",
   "execution_count": 1,
   "metadata": {},
   "outputs": [],
   "source": [
    "import numpy as np\n",
    "import matplotlib.pyplot as plt\n",
    "import cv2\n",
    "import os"
   ]
  },
  {
   "cell_type": "code",
   "execution_count": 2,
   "metadata": {},
   "outputs": [],
   "source": [
    "Data_Dir = \"C:\\\\Users\\\\raj-pc\\\\Downloads\\\\Jupyter lab\\\\Data\\\\Cats and Dogs Microsoft\\\\PICS\"\n",
    "categories = ['CATS', 'DOGS']"
   ]
  },
  {
   "cell_type": "code",
   "execution_count": 7,
   "metadata": {},
   "outputs": [
    {
     "name": "stdout",
     "output_type": "stream",
     "text": [
      "24946\n"
     ]
    }
   ],
   "source": [
    "Img_Size = 64\n",
    "training_data = []\n",
    "\n",
    "def create_training_data():\n",
    "    for category in categories:\n",
    "        path = os.path.join(Data_Dir, category)  ## Path to access cat or dog dir\n",
    "        class_num = categories.index(category)\n",
    "        for img in os.listdir(path):\n",
    "            try:\n",
    "                img_array = cv2.imread(os.path.join(path, img)) ## Full path to image\n",
    "                new_img_array = cv2.resize(img_array, (Img_Size, Img_Size))  ## Setting all images to same size\n",
    "                training_data.append([new_img_array[...,::-1], class_num])\n",
    "            except Exception as e:\n",
    "                pass\n",
    "\n",
    "            \n",
    "        \n",
    "create_training_data()\n",
    "print(len(training_data))"
   ]
  },
  {
   "cell_type": "code",
   "execution_count": 8,
   "metadata": {},
   "outputs": [],
   "source": [
    "import random\n",
    "random.shuffle(training_data)"
   ]
  },
  {
   "cell_type": "code",
   "execution_count": 9,
   "metadata": {},
   "outputs": [],
   "source": [
    "X = []\n",
    "y = []\n",
    "\n",
    "for features, label in training_data:\n",
    "    X.append(features)\n",
    "    y.append(label)\n",
    "\n",
    "del training_data"
   ]
  },
  {
   "cell_type": "code",
   "execution_count": 11,
   "metadata": {},
   "outputs": [],
   "source": [
    "X = np.array(X)\n",
    "X = X.reshape(-1, Img_Size,Img_Size,3)\n",
    "y = np.array(y, dtype=np.uint8)\n",
    "y = y.reshape(y.shape[0], 1)"
   ]
  },
  {
   "cell_type": "code",
   "execution_count": 14,
   "metadata": {},
   "outputs": [],
   "source": [
    "import pickle\n",
    "\n",
    "pickle_out = open(\"X_64_rgb.pickle\", \"wb\")\n",
    "pickle.dump(X, pickle_out)\n",
    "pickle_out.close()\n",
    "\n",
    "pickle_out = open(\"y_64_rgb.pickle\", \"wb\")\n",
    "pickle.dump(y, pickle_out)\n",
    "pickle_out.close()"
   ]
  },
  {
   "cell_type": "markdown",
   "metadata": {},
   "source": [
    "### Model Evaluation"
   ]
  },
  {
   "cell_type": "code",
   "execution_count": 15,
   "metadata": {},
   "outputs": [],
   "source": [
    "import pickle\n",
    "X = pickle.load(open(\"X_64_rgb.pickle\", \"rb\"))\n",
    "y = pickle.load(open(\"y_64_rgb.pickle\", \"rb\"))"
   ]
  },
  {
   "cell_type": "code",
   "execution_count": 16,
   "metadata": {},
   "outputs": [],
   "source": [
    "import numpy as np\n",
    "X = X/255.0"
   ]
  },
  {
   "cell_type": "code",
   "execution_count": 17,
   "metadata": {
    "scrolled": false
   },
   "outputs": [
    {
     "name": "stdout",
     "output_type": "stream",
     "text": [
      "(19956, 64, 64, 3) (4990, 64, 64, 3)\n"
     ]
    }
   ],
   "source": [
    "from sklearn.model_selection import train_test_split\n",
    "\n",
    "X_train, X_test, y_train, y_test = train_test_split(X, y, stratify=y, test_size=0.2)\n",
    "\n",
    "print(X_train.shape, X_test.shape)\n",
    "## ip_shape = (X.shape[1],X.shape[2], 1)"
   ]
  },
  {
   "cell_type": "code",
   "execution_count": 18,
   "metadata": {},
   "outputs": [],
   "source": [
    "del X, y"
   ]
  },
  {
   "cell_type": "code",
   "execution_count": 19,
   "metadata": {},
   "outputs": [],
   "source": [
    "import tensorflow as tf"
   ]
  },
  {
   "cell_type": "code",
   "execution_count": 27,
   "metadata": {},
   "outputs": [],
   "source": [
    "model = tf.keras.models.Sequential()\n",
    "\n",
    "model.add(tf.keras.layers.Conv2D(16, kernel_size=3, padding = 'same'))\n",
    "model.add(tf.keras.layers.MaxPool2D((2, 2), strides=2))\n",
    "\n",
    "model.add(tf.keras.layers.Conv2D(32, kernel_size=3, padding = 'same'))\n",
    "model.add(tf.keras.layers.MaxPool2D((2, 2), strides=2))\n",
    "\n",
    "model.add(tf.keras.layers.Conv2D(64, kernel_size=3))\n",
    "model.add(tf.keras.layers.MaxPool2D((2, 2), strides=2))\n",
    "\n",
    "model.add(tf.keras.layers.Conv2D(64, kernel_size=3))\n",
    "model.add(tf.keras.layers.MaxPool2D((2, 2), strides=2))\n",
    "\n",
    "model.add(tf.keras.layers.Flatten())\n",
    "\n",
    "\n",
    "model.add(tf.keras.layers.Dense(128, 'relu', kernel_regularizer = \"L2\"))\n",
    "model.add(tf.keras.layers.Dropout(0.2))\n",
    "model.add(tf.keras.layers.Dense(128, 'relu', kernel_regularizer = \"L2\"))\n",
    "model.add(tf.keras.layers.Dense(1, 'sigmoid'))\n",
    "\n",
    "model.compile('adam', loss='binary_crossentropy', metrics=['accuracy'])"
   ]
  },
  {
   "cell_type": "code",
   "execution_count": 28,
   "metadata": {},
   "outputs": [
    {
     "name": "stdout",
     "output_type": "stream",
     "text": [
      "Epoch 1/13\n",
      "624/624 [==============================] - 14s 22ms/step - loss: 1.4153 - accuracy: 0.5786\n",
      "Epoch 2/13\n",
      "624/624 [==============================] - 13s 22ms/step - loss: 0.5931 - accuracy: 0.7050\n",
      "Epoch 3/13\n",
      "624/624 [==============================] - 13s 21ms/step - loss: 0.5041 - accuracy: 0.7679\n",
      "Epoch 4/13\n",
      "624/624 [==============================] - 13s 21ms/step - loss: 0.4493 - accuracy: 0.8091\n",
      "Epoch 5/13\n",
      "624/624 [==============================] - 13s 21ms/step - loss: 0.4062 - accuracy: 0.8344\n",
      "Epoch 6/13\n",
      "624/624 [==============================] - 14s 22ms/step - loss: 0.3606 - accuracy: 0.8562\n",
      "Epoch 7/13\n",
      "624/624 [==============================] - 13s 22ms/step - loss: 0.3185 - accuracy: 0.8809\n",
      "Epoch 8/13\n",
      "624/624 [==============================] - 14s 22ms/step - loss: 0.2909 - accuracy: 0.8959\n",
      "Epoch 9/13\n",
      "624/624 [==============================] - 14s 22ms/step - loss: 0.2530 - accuracy: 0.9130\n",
      "Epoch 10/13\n",
      "624/624 [==============================] - 14s 22ms/step - loss: 0.2140 - accuracy: 0.9321\n",
      "Epoch 11/13\n",
      "624/624 [==============================] - 14s 22ms/step - loss: 0.1779 - accuracy: 0.9494\n",
      "Epoch 12/13\n",
      "624/624 [==============================] - 14s 22ms/step - loss: 0.1540 - accuracy: 0.9572\n",
      "Epoch 13/13\n",
      "624/624 [==============================] - 14s 22ms/step - loss: 0.1373 - accuracy: 0.9638\n"
     ]
    },
    {
     "data": {
      "text/plain": [
       "<tensorflow.python.keras.callbacks.History at 0x26844afffd0>"
      ]
     },
     "execution_count": 28,
     "metadata": {},
     "output_type": "execute_result"
    }
   ],
   "source": [
    "model.fit(X_train, y_train, epochs = 13, use_multiprocessing = True)"
   ]
  },
  {
   "cell_type": "code",
   "execution_count": 25,
   "metadata": {},
   "outputs": [],
   "source": [
    "from sklearn.metrics import f1_score"
   ]
  },
  {
   "cell_type": "code",
   "execution_count": 29,
   "metadata": {},
   "outputs": [
    {
     "name": "stdout",
     "output_type": "stream",
     "text": [
      "0.8115766039263307\n"
     ]
    }
   ],
   "source": [
    "pred = model.predict(X_test)\n",
    "pred1 = np.apply_along_axis(lambda x : int(x>0.5), 1, pred)\n",
    "pred1 = pred1.reshape(pred1.shape[0], 1)\n",
    "print(f1_score(pred1, y_test))"
   ]
  }
 ],
 "metadata": {
  "kernelspec": {
   "display_name": "Python 3",
   "language": "python",
   "name": "python3"
  },
  "language_info": {
   "codemirror_mode": {
    "name": "ipython",
    "version": 3
   },
   "file_extension": ".py",
   "mimetype": "text/x-python",
   "name": "python",
   "nbconvert_exporter": "python",
   "pygments_lexer": "ipython3",
   "version": "3.8.7"
  }
 },
 "nbformat": 4,
 "nbformat_minor": 4
}
